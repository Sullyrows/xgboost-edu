{
 "cells": [
  {
   "cell_type": "markdown",
   "metadata": {},
   "source": [
    "# Generate Documentation\n",
    "\n",
    "Generate documentation pages from website. "
   ]
  },
  {
   "cell_type": "code",
   "execution_count": 23,
   "metadata": {},
   "outputs": [],
   "source": [
    "import pandas as pd \n",
    "import requests\n",
    "from requests.exceptions import HTTPError\n",
    "from bs4 import BeautifulSoup\n",
    "from pathlib import Path\n",
    "from io import StringIO\n",
    "import tomli\n",
    "from pandoc import pandoc\n",
    "from tempfile import TemporaryFile"
   ]
  },
  {
   "cell_type": "code",
   "execution_count": 2,
   "metadata": {},
   "outputs": [],
   "source": [
    "BASE_URL = \"https://xgboost.readthedocs.io/en/stable/index.html\""
   ]
  },
  {
   "cell_type": "code",
   "execution_count": 3,
   "metadata": {},
   "outputs": [
    {
     "data": {
      "text/plain": [
       "dict_keys(['doc-pages'])"
      ]
     },
     "execution_count": 3,
     "metadata": {},
     "output_type": "execute_result"
    }
   ],
   "source": [
    "# load in toml \n",
    "my_toml = tomli.loads((Path.cwd() / \"docs.toml\").read_text())\n",
    "\n",
    "my_toml.keys()"
   ]
  },
  {
   "cell_type": "code",
   "execution_count": 4,
   "metadata": {},
   "outputs": [
    {
     "data": {
      "text/plain": [
       "{'parameters': 'https://xgboost.readthedocs.io/en/stable/parameter.html',\n",
       " 'gpu_support': 'https://xgboost.readthedocs.io/en/stable/gpu/index.html',\n",
       " 'faw': 'https://xgboost.readthedocs.io/en/stable/faq.html',\n",
       " 'tutorials': 'https://xgboost.readthedocs.io/en/stable/tutorials/index.html'}"
      ]
     },
     "execution_count": 4,
     "metadata": {},
     "output_type": "execute_result"
    }
   ],
   "source": [
    "# load in page urls \n",
    "urls = my_toml.get(\"doc-pages\")\n",
    "urls"
   ]
  },
  {
   "cell_type": "code",
   "execution_count": 5,
   "metadata": {},
   "outputs": [],
   "source": [
    "# get pages \n",
    "def get_page(url: str, doc_page: str = None): \n",
    "    with requests.request(\"GET\",url) as req: \n",
    "        if req.status_code != 200: \n",
    "            raise HTTPError(req.status_code)\n",
    "        \n",
    "        # SOUP\n",
    "        soup = BeautifulSoup(req.text)\n",
    "\n",
    "        # otherwise, just get page\n",
    "        article_content = soup.select(\"div.document > div > section\")[0]\n",
    "\n",
    "        if doc_page is not None: \n",
    "            # save to file path\n",
    "            _path =Path.cwd().parents[2] / f\"docs/{doc_page}.html\"\n",
    "            \n",
    "            _path.write_text(article_content)\n",
    "\n",
    "        return article_content\n",
    "            "
   ]
  },
  {
   "cell_type": "code",
   "execution_count": 6,
   "metadata": {},
   "outputs": [],
   "source": [
    "page_text = get_page(url=next(iter(urls.values())))"
   ]
  },
  {
   "cell_type": "code",
   "execution_count": 24,
   "metadata": {},
   "outputs": [
    {
     "ename": "UnsupportedOperation",
     "evalue": "not readable",
     "output_type": "error",
     "traceback": [
      "\u001b[0;31m---------------------------------------------------------------------------\u001b[0m",
      "\u001b[0;31mUnsupportedOperation\u001b[0m                      Traceback (most recent call last)",
      "Cell \u001b[0;32mIn[24], line 4\u001b[0m\n\u001b[1;32m      1\u001b[0m \u001b[38;5;28;01mwith\u001b[39;00m TemporaryFile(\u001b[38;5;124m\"\u001b[39m\u001b[38;5;124mw\u001b[39m\u001b[38;5;124m\"\u001b[39m, encoding\u001b[38;5;241m=\u001b[39m\u001b[38;5;124m'\u001b[39m\u001b[38;5;124mutf-8\u001b[39m\u001b[38;5;124m'\u001b[39m) \u001b[38;5;28;01mas\u001b[39;00m temp: \n\u001b[1;32m      2\u001b[0m     temp\u001b[38;5;241m.\u001b[39mwrite(page_text\u001b[38;5;241m.\u001b[39mtext)\n\u001b[0;32m----> 4\u001b[0m     my_text \u001b[38;5;241m=\u001b[39m \u001b[43mtemp\u001b[49m\u001b[38;5;241;43m.\u001b[39;49m\u001b[43mread\u001b[49m\u001b[43m(\u001b[49m\u001b[43m)\u001b[49m\n\u001b[1;32m      6\u001b[0m     \u001b[38;5;28mprint\u001b[39m(\u001b[38;5;241m1\u001b[39m)\n",
      "\u001b[0;31mUnsupportedOperation\u001b[0m: not readable"
     ]
    }
   ],
   "source": [
    "with TemporaryFile(\"w\", encoding='utf-8') as temp: \n",
    "    temp.write(page_text.text)\n",
    "\n",
    "    my_text = temp.read()\n",
    "\n",
    "    print(1)"
   ]
  },
  {
   "cell_type": "code",
   "execution_count": 14,
   "metadata": {},
   "outputs": [
    {
     "data": {
      "text/plain": [
       "29022"
      ]
     },
     "execution_count": 14,
     "metadata": {},
     "output_type": "execute_result"
    }
   ],
   "source": [
    "(Path.cwd() / \"Data/temp.html\")\\\n",
    "    .write_text(\n",
    "        page_text.text,\n",
    "        encoding = 'utf-8'\n",
    "    )"
   ]
  },
  {
   "cell_type": "code",
   "execution_count": 15,
   "metadata": {},
   "outputs": [],
   "source": [
    "pdoc_read = pandoc.read(page_text.text, format='html')"
   ]
  },
  {
   "cell_type": "code",
   "execution_count": 22,
   "metadata": {},
   "outputs": [
    {
     "data": {
      "text/plain": [
       "{'auto': True,\n",
       " 'path': '/usr/local/bin/pandoc',\n",
       " 'version': '3.1.12.3',\n",
       " 'pandoc_types_version': '1.22.2.1'}"
      ]
     },
     "execution_count": 22,
     "metadata": {},
     "output_type": "execute_result"
    }
   ],
   "source": [
    "pandoc._configuration"
   ]
  },
  {
   "cell_type": "code",
   "execution_count": 21,
   "metadata": {},
   "outputs": [
    {
     "ename": "ProcessExecutionError",
     "evalue": "Unexpected exit code: 64\nCommand line: | /usr/local/bin/pandoc -t markdown -o /var/folders/vz/x1_phppx4jlfxt612qb8vcs80000gn/T/tmp20wsl85d/output -f json /var/folders/vz/x1_phppx4jlfxt612qb8vcs80000gn/T/tmp20wsl85d/input.js\nStderr:       | JSON parse error: Error in $: Incompatible API versions: encoded with [1,22,2,1] but attempted to decode with [1,23,1].",
     "output_type": "error",
     "traceback": [
      "\u001b[0;31m---------------------------------------------------------------------------\u001b[0m",
      "\u001b[0;31mProcessExecutionError\u001b[0m                     Traceback (most recent call last)",
      "Cell \u001b[0;32mIn[21], line 1\u001b[0m\n\u001b[0;32m----> 1\u001b[0m \u001b[43mpandoc\u001b[49m\u001b[38;5;241;43m.\u001b[39;49m\u001b[43mwrite\u001b[49m\u001b[43m(\u001b[49m\n\u001b[1;32m      2\u001b[0m \u001b[43m    \u001b[49m\u001b[43mpdoc_read\u001b[49m\u001b[43m,\u001b[49m\u001b[43m \u001b[49m\u001b[38;5;28;43mformat\u001b[39;49m\u001b[38;5;241;43m=\u001b[39;49m\u001b[38;5;124;43m'\u001b[39;49m\u001b[38;5;124;43mmarkdown\u001b[39;49m\u001b[38;5;124;43m'\u001b[39;49m\n\u001b[1;32m      3\u001b[0m \u001b[43m)\u001b[49m\n",
      "File \u001b[0;32m~/Documents/Python/learn_xgboost/.venv/lib/python3.10/site-packages/pandoc/__init__.py:355\u001b[0m, in \u001b[0;36mwrite\u001b[0;34m(doc, file, format, options)\u001b[0m\n\u001b[1;32m    349\u001b[0m     output_path \u001b[38;5;241m=\u001b[39m os\u001b[38;5;241m.\u001b[39mpath\u001b[38;5;241m.\u001b[39mjoin(tmp_dir, tmp_filename)\n\u001b[1;32m    350\u001b[0m     options \u001b[38;5;241m=\u001b[39m (\n\u001b[1;32m    351\u001b[0m         [\u001b[38;5;124m\"\u001b[39m\u001b[38;5;124m-t\u001b[39m\u001b[38;5;124m\"\u001b[39m, \u001b[38;5;28mformat\u001b[39m, \u001b[38;5;124m\"\u001b[39m\u001b[38;5;124m-o\u001b[39m\u001b[38;5;124m\"\u001b[39m, output_path]\n\u001b[1;32m    352\u001b[0m         \u001b[38;5;241m+\u001b[39m \u001b[38;5;28mlist\u001b[39m(options)\n\u001b[1;32m    353\u001b[0m         \u001b[38;5;241m+\u001b[39m [\u001b[38;5;124m\"\u001b[39m\u001b[38;5;124m-f\u001b[39m\u001b[38;5;124m\"\u001b[39m, \u001b[38;5;124m\"\u001b[39m\u001b[38;5;124mjson\u001b[39m\u001b[38;5;124m\"\u001b[39m, input_path]\n\u001b[1;32m    354\u001b[0m     )\n\u001b[0;32m--> 355\u001b[0m     \u001b[43mpandoc\u001b[49m\u001b[43m(\u001b[49m\u001b[43moptions\u001b[49m\u001b[43m)\u001b[49m\n\u001b[1;32m    357\u001b[0m output_bytes \u001b[38;5;241m=\u001b[39m \u001b[38;5;28mopen\u001b[39m(output_path, \u001b[38;5;124m\"\u001b[39m\u001b[38;5;124mrb\u001b[39m\u001b[38;5;124m\"\u001b[39m)\u001b[38;5;241m.\u001b[39mread()\n\u001b[1;32m    358\u001b[0m binary_formats \u001b[38;5;241m=\u001b[39m [\u001b[38;5;124m\"\u001b[39m\u001b[38;5;124mdocx\u001b[39m\u001b[38;5;124m\"\u001b[39m, \u001b[38;5;124m\"\u001b[39m\u001b[38;5;124mepub\u001b[39m\u001b[38;5;124m\"\u001b[39m, \u001b[38;5;124m\"\u001b[39m\u001b[38;5;124mepub2\u001b[39m\u001b[38;5;124m\"\u001b[39m, \u001b[38;5;124m\"\u001b[39m\u001b[38;5;124mepub3\u001b[39m\u001b[38;5;124m\"\u001b[39m, \u001b[38;5;124m\"\u001b[39m\u001b[38;5;124modt\u001b[39m\u001b[38;5;124m\"\u001b[39m, \u001b[38;5;124m\"\u001b[39m\u001b[38;5;124mpdf\u001b[39m\u001b[38;5;124m\"\u001b[39m, \u001b[38;5;124m\"\u001b[39m\u001b[38;5;124mpptx\u001b[39m\u001b[38;5;124m\"\u001b[39m]\n",
      "File \u001b[0;32m~/Documents/Python/learn_xgboost/.venv/lib/python3.10/site-packages/plumbum/commands/base.py:113\u001b[0m, in \u001b[0;36mBaseCommand.__call__\u001b[0;34m(self, *args, **kwargs)\u001b[0m\n\u001b[1;32m    111\u001b[0m \u001b[38;5;28;01mdef\u001b[39;00m \u001b[38;5;21m__call__\u001b[39m(\u001b[38;5;28mself\u001b[39m, \u001b[38;5;241m*\u001b[39margs, \u001b[38;5;241m*\u001b[39m\u001b[38;5;241m*\u001b[39mkwargs):\n\u001b[1;32m    112\u001b[0m \u001b[38;5;250m    \u001b[39m\u001b[38;5;124;03m\"\"\"A shortcut for `run(args)`, returning only the process' stdout\"\"\"\u001b[39;00m\n\u001b[0;32m--> 113\u001b[0m     \u001b[38;5;28;01mreturn\u001b[39;00m \u001b[38;5;28;43mself\u001b[39;49m\u001b[38;5;241;43m.\u001b[39;49m\u001b[43mrun\u001b[49m\u001b[43m(\u001b[49m\u001b[43margs\u001b[49m\u001b[43m,\u001b[49m\u001b[43m \u001b[49m\u001b[38;5;241;43m*\u001b[39;49m\u001b[38;5;241;43m*\u001b[39;49m\u001b[43mkwargs\u001b[49m\u001b[43m)\u001b[49m[\u001b[38;5;241m1\u001b[39m]\n",
      "File \u001b[0;32m~/Documents/Python/learn_xgboost/.venv/lib/python3.10/site-packages/plumbum/commands/base.py:252\u001b[0m, in \u001b[0;36mBaseCommand.run\u001b[0;34m(self, args, **kwargs)\u001b[0m\n\u001b[1;32m    227\u001b[0m \u001b[38;5;250m\u001b[39m\u001b[38;5;124;03m\"\"\"Runs the given command (equivalent to popen() followed by\u001b[39;00m\n\u001b[1;32m    228\u001b[0m \u001b[38;5;124;03m:func:`run_proc <plumbum.commands.run_proc>`). If the exit code of the process does\u001b[39;00m\n\u001b[1;32m    229\u001b[0m \u001b[38;5;124;03mnot match the expected one, :class:`ProcessExecutionError\u001b[39;00m\n\u001b[0;32m   (...)\u001b[0m\n\u001b[1;32m    249\u001b[0m \u001b[38;5;124;03m:returns: A tuple of (return code, stdout, stderr)\u001b[39;00m\n\u001b[1;32m    250\u001b[0m \u001b[38;5;124;03m\"\"\"\u001b[39;00m\n\u001b[1;32m    251\u001b[0m \u001b[38;5;28;01mwith\u001b[39;00m \u001b[38;5;28mself\u001b[39m\u001b[38;5;241m.\u001b[39mbgrun(args, \u001b[38;5;241m*\u001b[39m\u001b[38;5;241m*\u001b[39mkwargs) \u001b[38;5;28;01mas\u001b[39;00m p:\n\u001b[0;32m--> 252\u001b[0m     \u001b[38;5;28;01mreturn\u001b[39;00m \u001b[43mp\u001b[49m\u001b[38;5;241;43m.\u001b[39;49m\u001b[43mrun\u001b[49m\u001b[43m(\u001b[49m\u001b[43m)\u001b[49m\n",
      "File \u001b[0;32m~/Documents/Python/learn_xgboost/.venv/lib/python3.10/site-packages/plumbum/commands/base.py:215\u001b[0m, in \u001b[0;36mBaseCommand.bgrun.<locals>.runner\u001b[0;34m()\u001b[0m\n\u001b[1;32m    213\u001b[0m was_run[\u001b[38;5;241m0\u001b[39m] \u001b[38;5;241m=\u001b[39m \u001b[38;5;28;01mTrue\u001b[39;00m\n\u001b[1;32m    214\u001b[0m \u001b[38;5;28;01mtry\u001b[39;00m:\n\u001b[0;32m--> 215\u001b[0m     \u001b[38;5;28;01mreturn\u001b[39;00m \u001b[43mrun_proc\u001b[49m\u001b[43m(\u001b[49m\u001b[43mp\u001b[49m\u001b[43m,\u001b[49m\u001b[43m \u001b[49m\u001b[43mretcode\u001b[49m\u001b[43m,\u001b[49m\u001b[43m \u001b[49m\u001b[43mtimeout\u001b[49m\u001b[43m)\u001b[49m\n\u001b[1;32m    216\u001b[0m \u001b[38;5;28;01mfinally\u001b[39;00m:\n\u001b[1;32m    217\u001b[0m     \u001b[38;5;28;01mdel\u001b[39;00m p\u001b[38;5;241m.\u001b[39mrun  \u001b[38;5;66;03m# to break cyclic reference p -> cell -> p\u001b[39;00m\n",
      "File \u001b[0;32m~/Documents/Python/learn_xgboost/.venv/lib/python3.10/site-packages/plumbum/commands/processes.py:299\u001b[0m, in \u001b[0;36mrun_proc\u001b[0;34m(proc, retcode, timeout)\u001b[0m\n\u001b[1;32m    296\u001b[0m     stdout \u001b[38;5;241m=\u001b[39m stdout\u001b[38;5;241m.\u001b[39mdecode(proc\u001b[38;5;241m.\u001b[39mcustom_encoding, \u001b[38;5;124m\"\u001b[39m\u001b[38;5;124mignore\u001b[39m\u001b[38;5;124m\"\u001b[39m)\n\u001b[1;32m    297\u001b[0m     stderr \u001b[38;5;241m=\u001b[39m stderr\u001b[38;5;241m.\u001b[39mdecode(proc\u001b[38;5;241m.\u001b[39mcustom_encoding, \u001b[38;5;124m\"\u001b[39m\u001b[38;5;124mignore\u001b[39m\u001b[38;5;124m\"\u001b[39m)\n\u001b[0;32m--> 299\u001b[0m \u001b[38;5;28;01mreturn\u001b[39;00m \u001b[43m_check_process\u001b[49m\u001b[43m(\u001b[49m\u001b[43mproc\u001b[49m\u001b[43m,\u001b[49m\u001b[43m \u001b[49m\u001b[43mretcode\u001b[49m\u001b[43m,\u001b[49m\u001b[43m \u001b[49m\u001b[43mtimeout\u001b[49m\u001b[43m,\u001b[49m\u001b[43m \u001b[49m\u001b[43mstdout\u001b[49m\u001b[43m,\u001b[49m\u001b[43m \u001b[49m\u001b[43mstderr\u001b[49m\u001b[43m)\u001b[49m\n",
      "File \u001b[0;32m~/Documents/Python/learn_xgboost/.venv/lib/python3.10/site-packages/plumbum/commands/processes.py:17\u001b[0m, in \u001b[0;36m_check_process\u001b[0;34m(proc, retcode, timeout, stdout, stderr)\u001b[0m\n\u001b[1;32m     16\u001b[0m \u001b[38;5;28;01mdef\u001b[39;00m \u001b[38;5;21m_check_process\u001b[39m(proc, retcode, timeout, stdout, stderr):\n\u001b[0;32m---> 17\u001b[0m     \u001b[43mproc\u001b[49m\u001b[38;5;241;43m.\u001b[39;49m\u001b[43mverify\u001b[49m\u001b[43m(\u001b[49m\u001b[43mretcode\u001b[49m\u001b[43m,\u001b[49m\u001b[43m \u001b[49m\u001b[43mtimeout\u001b[49m\u001b[43m,\u001b[49m\u001b[43m \u001b[49m\u001b[43mstdout\u001b[49m\u001b[43m,\u001b[49m\u001b[43m \u001b[49m\u001b[43mstderr\u001b[49m\u001b[43m)\u001b[49m\n\u001b[1;32m     18\u001b[0m     \u001b[38;5;28;01mreturn\u001b[39;00m proc\u001b[38;5;241m.\u001b[39mreturncode, stdout, stderr\n",
      "File \u001b[0;32m~/Documents/Python/learn_xgboost/.venv/lib/python3.10/site-packages/plumbum/machines/base.py:27\u001b[0m, in \u001b[0;36mPopenAddons.verify\u001b[0;34m(self, retcode, timeout, stdout, stderr)\u001b[0m\n\u001b[1;32m     23\u001b[0m         \u001b[38;5;28;01mraise\u001b[39;00m ProcessExecutionError(\n\u001b[1;32m     24\u001b[0m             \u001b[38;5;28mgetattr\u001b[39m(\u001b[38;5;28mself\u001b[39m, \u001b[38;5;124m\"\u001b[39m\u001b[38;5;124margv\u001b[39m\u001b[38;5;124m\"\u001b[39m, \u001b[38;5;28;01mNone\u001b[39;00m), \u001b[38;5;28mself\u001b[39m\u001b[38;5;241m.\u001b[39mreturncode, stdout, stderr\n\u001b[1;32m     25\u001b[0m         )\n\u001b[1;32m     26\u001b[0m \u001b[38;5;28;01melif\u001b[39;00m \u001b[38;5;28mself\u001b[39m\u001b[38;5;241m.\u001b[39mreturncode \u001b[38;5;241m!=\u001b[39m retcode:\n\u001b[0;32m---> 27\u001b[0m     \u001b[38;5;28;01mraise\u001b[39;00m ProcessExecutionError(\n\u001b[1;32m     28\u001b[0m         \u001b[38;5;28mgetattr\u001b[39m(\u001b[38;5;28mself\u001b[39m, \u001b[38;5;124m\"\u001b[39m\u001b[38;5;124margv\u001b[39m\u001b[38;5;124m\"\u001b[39m, \u001b[38;5;28;01mNone\u001b[39;00m), \u001b[38;5;28mself\u001b[39m\u001b[38;5;241m.\u001b[39mreturncode, stdout, stderr\n\u001b[1;32m     29\u001b[0m     )\n",
      "\u001b[0;31mProcessExecutionError\u001b[0m: Unexpected exit code: 64\nCommand line: | /usr/local/bin/pandoc -t markdown -o /var/folders/vz/x1_phppx4jlfxt612qb8vcs80000gn/T/tmp20wsl85d/output -f json /var/folders/vz/x1_phppx4jlfxt612qb8vcs80000gn/T/tmp20wsl85d/input.js\nStderr:       | JSON parse error: Error in $: Incompatible API versions: encoded with [1,22,2,1] but attempted to decode with [1,23,1]."
     ]
    }
   ],
   "source": [
    "pandoc.write(\n",
    "    pdoc_read, format='markdown'\n",
    ")"
   ]
  },
  {
   "cell_type": "code",
   "execution_count": 9,
   "metadata": {},
   "outputs": [],
   "source": [
    "# try just getting base url page \n",
    "with requests.request(\"GET\",BASE_URL) as req: \n",
    "    if req.status_code != 200: \n",
    "        raise HTTPError(req.status_code)\n",
    "    \n",
    "    # otherwise save \n",
    "    html_path = Path.cwd() / \"data/base_url.html\"\n",
    "\n",
    "    # save base html to buffer \n",
    "    buff = StringIO(req.text)\n",
    "\n",
    "    # generate soup\n",
    "    soup = BeautifulSoup(buff)\n",
    "\n",
    "    html_path.write_text(req.text)"
   ]
  },
  {
   "cell_type": "code",
   "execution_count": 41,
   "metadata": {},
   "outputs": [],
   "source": [
    "_selector = \"body > div.wy-grid-for-nav > nav > div > div.wy-menu.wy-menu-vertical > ul > li > a\"\n",
    "\n",
    "menu_items = soup.select(_selector)"
   ]
  },
  {
   "cell_type": "code",
   "execution_count": 43,
   "metadata": {},
   "outputs": [
    {
     "data": {
      "text/plain": [
       "['https://xgboost.readthedocs.io/en/stable/install.html#',\n",
       " 'https://xgboost.readthedocs.io/en/stable/build.html#',\n",
       " 'https://xgboost.readthedocs.io/en/stable/get_started.html#',\n",
       " 'https://xgboost.readthedocs.io/en/stable/tutorials/index.html#',\n",
       " 'https://xgboost.readthedocs.io/en/stable/faq.html#',\n",
       " 'https://xgboost.readthedocs.io/en/stable/gpu/index.html#',\n",
       " 'https://xgboost.readthedocs.io/en/stable/parameter.html#',\n",
       " 'https://xgboost.readthedocs.io/en/stable/prediction.html#',\n",
       " 'https://xgboost.readthedocs.io/en/stable/treemethod.html#',\n",
       " 'https://xgboost.readthedocs.io/en/stable/python/index.html#',\n",
       " 'https://xgboost.readthedocs.io/en/stable/R-package/index.html#',\n",
       " 'https://xgboost.readthedocs.io/en/stable/jvm/index.html#',\n",
       " 'https://xgboost.readthedocs.io/en/stable/julia.html#',\n",
       " 'https://xgboost.readthedocs.io/en/stable/c.html#',\n",
       " 'https://xgboost.readthedocs.io/en/stable/c%2B%2B.html#',\n",
       " 'https://xgboost.readthedocs.io/en/stable/cli.html#',\n",
       " 'https://xgboost.readthedocs.io/en/stable/contrib/index.html#']"
      ]
     },
     "execution_count": 43,
     "metadata": {},
     "output_type": "execute_result"
    }
   ],
   "source": [
    "http_title = [x.get(\"href\") for x in menu_items if x.get(\"href\")[:4] != 'http']\n",
    "full_link = [f\"https://xgboost.readthedocs.io/en/stable/{x}#\" for x in http_title]\n",
    "\n",
    "full_link"
   ]
  }
 ],
 "metadata": {
  "kernelspec": {
   "display_name": ".venv",
   "language": "python",
   "name": "python3"
  },
  "language_info": {
   "codemirror_mode": {
    "name": "ipython",
    "version": 3
   },
   "file_extension": ".py",
   "mimetype": "text/x-python",
   "name": "python",
   "nbconvert_exporter": "python",
   "pygments_lexer": "ipython3",
   "version": "3.10.0"
  }
 },
 "nbformat": 4,
 "nbformat_minor": 2
}
